{
 "cells": [
  {
   "cell_type": "markdown",
   "id": "other-going",
   "metadata": {},
   "source": [
    "# Case Study"
   ]
  },
  {
   "cell_type": "markdown",
   "id": "affected-tower",
   "metadata": {},
   "source": [
    "## Importing libraries"
   ]
  },
  {
   "cell_type": "code",
   "execution_count": 1,
   "id": "instrumental-tracker",
   "metadata": {},
   "outputs": [],
   "source": [
    "# import libraries here; add more as necessary\n",
    "import numpy as np\n",
    "import pandas as pd\n",
    "import matplotlib.pyplot as plt\n",
    "import seaborn as sns\n",
    "\n",
    "import warnings\n",
    "warnings.filterwarnings(\"ignore\")\n",
    "pd.set_option(\"display.max_columns\", 400)\n",
    "\n",
    "import pickle\n",
    "from sklearn.decomposition import PCA\n",
    "from sklearn.preprocessing import StandardScaler\n",
    "from sklearn.cluster import KMeans, MiniBatchKMeans\n",
    "\n",
    "from sklearn.model_selection import train_test_split\n",
    "from sklearn.model_selection import StratifiedKFold\n",
    "from sklearn.model_selection import GridSearchCV\n",
    "\n",
    "\n",
    "\n",
    "\n",
    "# magic word for producing visualizations in notebook\n",
    "%matplotlib inline"
   ]
  },
  {
   "cell_type": "markdown",
   "id": "written-cooperation",
   "metadata": {},
   "source": [
    "## Get to Know the Data\n",
    "There are four data files associated with this Case Study\n",
    "\n",
    "\n"
   ]
  },
  {
   "cell_type": "code",
   "execution_count": 2,
   "id": "hollywood-movement",
   "metadata": {},
   "outputs": [],
   "source": [
    "dataset1 = pd.read_csv('Airlift - case study - data set - Data set 1.csv')\n",
    "dataset2 = pd.read_csv('Airlift - case study - data set - Data set 2.csv')\n",
    "dataset3 = pd.read_csv('Airlift - case study - data set - Data set 3.csv')\n",
    "dataset4 = pd.read_csv('Airlift - case study - data set - Data set 4.csv')"
   ]
  },
  {
   "cell_type": "code",
   "execution_count": 4,
   "id": "broad-senate",
   "metadata": {},
   "outputs": [
    {
     "data": {
      "text/html": [
       "<div>\n",
       "<style scoped>\n",
       "    .dataframe tbody tr th:only-of-type {\n",
       "        vertical-align: middle;\n",
       "    }\n",
       "\n",
       "    .dataframe tbody tr th {\n",
       "        vertical-align: top;\n",
       "    }\n",
       "\n",
       "    .dataframe thead th {\n",
       "        text-align: right;\n",
       "    }\n",
       "</style>\n",
       "<table border=\"1\" class=\"dataframe\">\n",
       "  <thead>\n",
       "    <tr style=\"text-align: right;\">\n",
       "      <th></th>\n",
       "      <th>date</th>\n",
       "      <th>ord_type</th>\n",
       "      <th>orders</th>\n",
       "    </tr>\n",
       "  </thead>\n",
       "  <tbody>\n",
       "    <tr>\n",
       "      <th>0</th>\n",
       "      <td>6/27/2021</td>\n",
       "      <td>Repeat</td>\n",
       "      <td>8212</td>\n",
       "    </tr>\n",
       "    <tr>\n",
       "      <th>1</th>\n",
       "      <td>6/26/2021</td>\n",
       "      <td>Repeat</td>\n",
       "      <td>7631</td>\n",
       "    </tr>\n",
       "    <tr>\n",
       "      <th>2</th>\n",
       "      <td>6/25/2021</td>\n",
       "      <td>Repeat</td>\n",
       "      <td>7251</td>\n",
       "    </tr>\n",
       "    <tr>\n",
       "      <th>3</th>\n",
       "      <td>6/24/2021</td>\n",
       "      <td>Repeat</td>\n",
       "      <td>7352</td>\n",
       "    </tr>\n",
       "    <tr>\n",
       "      <th>4</th>\n",
       "      <td>6/23/2021</td>\n",
       "      <td>Repeat</td>\n",
       "      <td>7644</td>\n",
       "    </tr>\n",
       "  </tbody>\n",
       "</table>\n",
       "</div>"
      ],
      "text/plain": [
       "        date ord_type  orders\n",
       "0  6/27/2021   Repeat    8212\n",
       "1  6/26/2021   Repeat    7631\n",
       "2  6/25/2021   Repeat    7251\n",
       "3  6/24/2021   Repeat    7352\n",
       "4  6/23/2021   Repeat    7644"
      ]
     },
     "execution_count": 4,
     "metadata": {},
     "output_type": "execute_result"
    }
   ],
   "source": [
    "dataset1.head()\n"
   ]
  },
  {
   "cell_type": "code",
   "execution_count": 11,
   "id": "muslim-variety",
   "metadata": {},
   "outputs": [
    {
     "name": "stdout",
     "output_type": "stream",
     "text": [
      "<class 'pandas.core.frame.DataFrame'>\n",
      "RangeIndex: 176 entries, 0 to 175\n",
      "Data columns (total 3 columns):\n",
      " #   Column    Non-Null Count  Dtype \n",
      "---  ------    --------------  ----- \n",
      " 0   date      176 non-null    object\n",
      " 1   ord_type  176 non-null    object\n",
      " 2   orders    176 non-null    int64 \n",
      "dtypes: int64(1), object(2)\n",
      "memory usage: 4.2+ KB\n"
     ]
    }
   ],
   "source": [
    "dataset1.info()"
   ]
  },
  {
   "cell_type": "code",
   "execution_count": 5,
   "id": "competent-testament",
   "metadata": {},
   "outputs": [
    {
     "data": {
      "text/html": [
       "<div>\n",
       "<style scoped>\n",
       "    .dataframe tbody tr th:only-of-type {\n",
       "        vertical-align: middle;\n",
       "    }\n",
       "\n",
       "    .dataframe tbody tr th {\n",
       "        vertical-align: top;\n",
       "    }\n",
       "\n",
       "    .dataframe thead th {\n",
       "        text-align: right;\n",
       "    }\n",
       "</style>\n",
       "<table border=\"1\" class=\"dataframe\">\n",
       "  <thead>\n",
       "    <tr style=\"text-align: right;\">\n",
       "      <th></th>\n",
       "      <th>id</th>\n",
       "      <th>warehouse_id</th>\n",
       "      <th>product_id</th>\n",
       "      <th>hours_out_of_stock</th>\n",
       "      <th>daily_sales_adj</th>\n",
       "      <th>selling_price</th>\n",
       "      <th>day</th>\n",
       "      <th>city</th>\n",
       "    </tr>\n",
       "  </thead>\n",
       "  <tbody>\n",
       "    <tr>\n",
       "      <th>0</th>\n",
       "      <td>2408059</td>\n",
       "      <td>1</td>\n",
       "      <td>9</td>\n",
       "      <td>11.765823</td>\n",
       "      <td>5.657077</td>\n",
       "      <td>60.0</td>\n",
       "      <td>4/1/2021</td>\n",
       "      <td>Lahore</td>\n",
       "    </tr>\n",
       "    <tr>\n",
       "      <th>1</th>\n",
       "      <td>2454707</td>\n",
       "      <td>1</td>\n",
       "      <td>10</td>\n",
       "      <td>9.660333</td>\n",
       "      <td>11.868269</td>\n",
       "      <td>20.0</td>\n",
       "      <td>4/1/2021</td>\n",
       "      <td>Lahore</td>\n",
       "    </tr>\n",
       "    <tr>\n",
       "      <th>2</th>\n",
       "      <td>2482569</td>\n",
       "      <td>1</td>\n",
       "      <td>13</td>\n",
       "      <td>0.209807</td>\n",
       "      <td>9.000000</td>\n",
       "      <td>111.0</td>\n",
       "      <td>4/1/2021</td>\n",
       "      <td>Lahore</td>\n",
       "    </tr>\n",
       "    <tr>\n",
       "      <th>3</th>\n",
       "      <td>2222342</td>\n",
       "      <td>1</td>\n",
       "      <td>17</td>\n",
       "      <td>14.000000</td>\n",
       "      <td>1.997337</td>\n",
       "      <td>159.0</td>\n",
       "      <td>4/1/2021</td>\n",
       "      <td>Lahore</td>\n",
       "    </tr>\n",
       "    <tr>\n",
       "      <th>4</th>\n",
       "      <td>2441527</td>\n",
       "      <td>1</td>\n",
       "      <td>24</td>\n",
       "      <td>11.766224</td>\n",
       "      <td>0.714286</td>\n",
       "      <td>580.0</td>\n",
       "      <td>4/1/2021</td>\n",
       "      <td>Lahore</td>\n",
       "    </tr>\n",
       "  </tbody>\n",
       "</table>\n",
       "</div>"
      ],
      "text/plain": [
       "        id  warehouse_id  product_id  hours_out_of_stock  daily_sales_adj  \\\n",
       "0  2408059             1           9           11.765823         5.657077   \n",
       "1  2454707             1          10            9.660333        11.868269   \n",
       "2  2482569             1          13            0.209807         9.000000   \n",
       "3  2222342             1          17           14.000000         1.997337   \n",
       "4  2441527             1          24           11.766224         0.714286   \n",
       "\n",
       "   selling_price       day    city  \n",
       "0           60.0  4/1/2021  Lahore  \n",
       "1           20.0  4/1/2021  Lahore  \n",
       "2          111.0  4/1/2021  Lahore  \n",
       "3          159.0  4/1/2021  Lahore  \n",
       "4          580.0  4/1/2021  Lahore  "
      ]
     },
     "execution_count": 5,
     "metadata": {},
     "output_type": "execute_result"
    }
   ],
   "source": [
    "dataset2.head()"
   ]
  },
  {
   "cell_type": "code",
   "execution_count": 8,
   "id": "continuing-department",
   "metadata": {},
   "outputs": [
    {
     "name": "stdout",
     "output_type": "stream",
     "text": [
      "<class 'pandas.core.frame.DataFrame'>\n",
      "RangeIndex: 260504 entries, 0 to 260503\n",
      "Data columns (total 8 columns):\n",
      " #   Column              Non-Null Count   Dtype  \n",
      "---  ------              --------------   -----  \n",
      " 0   id                  260504 non-null  int64  \n",
      " 1   warehouse_id        260504 non-null  int64  \n",
      " 2   product_id          260504 non-null  int64  \n",
      " 3   hours_out_of_stock  260504 non-null  float64\n",
      " 4   daily_sales_adj     204399 non-null  float64\n",
      " 5   selling_price       260504 non-null  float64\n",
      " 6   day                 260504 non-null  object \n",
      " 7   city                260504 non-null  object \n",
      "dtypes: float64(3), int64(3), object(2)\n",
      "memory usage: 15.9+ MB\n"
     ]
    }
   ],
   "source": [
    "dataset2.info()"
   ]
  },
  {
   "cell_type": "code",
   "execution_count": 6,
   "id": "mature-documentation",
   "metadata": {},
   "outputs": [
    {
     "data": {
      "text/html": [
       "<div>\n",
       "<style scoped>\n",
       "    .dataframe tbody tr th:only-of-type {\n",
       "        vertical-align: middle;\n",
       "    }\n",
       "\n",
       "    .dataframe tbody tr th {\n",
       "        vertical-align: top;\n",
       "    }\n",
       "\n",
       "    .dataframe thead th {\n",
       "        text-align: right;\n",
       "    }\n",
       "</style>\n",
       "<table border=\"1\" class=\"dataframe\">\n",
       "  <thead>\n",
       "    <tr style=\"text-align: right;\">\n",
       "      <th></th>\n",
       "      <th>date_1</th>\n",
       "      <th>avg</th>\n",
       "      <th>stage</th>\n",
       "    </tr>\n",
       "  </thead>\n",
       "  <tbody>\n",
       "    <tr>\n",
       "      <th>0</th>\n",
       "      <td>11/3/2020</td>\n",
       "      <td>7.847116</td>\n",
       "      <td>commute_time</td>\n",
       "    </tr>\n",
       "    <tr>\n",
       "      <th>1</th>\n",
       "      <td>11/3/2020</td>\n",
       "      <td>6.313964</td>\n",
       "      <td>dispatch_time</td>\n",
       "    </tr>\n",
       "    <tr>\n",
       "      <th>2</th>\n",
       "      <td>11/3/2020</td>\n",
       "      <td>1.380118</td>\n",
       "      <td>packing_queue_time</td>\n",
       "    </tr>\n",
       "    <tr>\n",
       "      <th>3</th>\n",
       "      <td>11/3/2020</td>\n",
       "      <td>10.275065</td>\n",
       "      <td>packing_time</td>\n",
       "    </tr>\n",
       "    <tr>\n",
       "      <th>4</th>\n",
       "      <td>11/3/2020</td>\n",
       "      <td>1.335344</td>\n",
       "      <td>picking_queue_time</td>\n",
       "    </tr>\n",
       "  </tbody>\n",
       "</table>\n",
       "</div>"
      ],
      "text/plain": [
       "      date_1        avg               stage\n",
       "0  11/3/2020   7.847116        commute_time\n",
       "1  11/3/2020   6.313964       dispatch_time\n",
       "2  11/3/2020   1.380118  packing_queue_time\n",
       "3  11/3/2020  10.275065        packing_time\n",
       "4  11/3/2020   1.335344  picking_queue_time"
      ]
     },
     "execution_count": 6,
     "metadata": {},
     "output_type": "execute_result"
    }
   ],
   "source": [
    "dataset3.head()"
   ]
  },
  {
   "cell_type": "code",
   "execution_count": 10,
   "id": "digital-kinase",
   "metadata": {},
   "outputs": [
    {
     "name": "stdout",
     "output_type": "stream",
     "text": [
      "<class 'pandas.core.frame.DataFrame'>\n",
      "RangeIndex: 1428 entries, 0 to 1427\n",
      "Data columns (total 3 columns):\n",
      " #   Column  Non-Null Count  Dtype  \n",
      "---  ------  --------------  -----  \n",
      " 0   date_1  1428 non-null   object \n",
      " 1   avg     1428 non-null   float64\n",
      " 2   stage   1428 non-null   object \n",
      "dtypes: float64(1), object(2)\n",
      "memory usage: 33.6+ KB\n"
     ]
    }
   ],
   "source": [
    "dataset3.info()"
   ]
  },
  {
   "cell_type": "code",
   "execution_count": 9,
   "id": "statistical-alarm",
   "metadata": {},
   "outputs": [
    {
     "data": {
      "text/html": [
       "<div>\n",
       "<style scoped>\n",
       "    .dataframe tbody tr th:only-of-type {\n",
       "        vertical-align: middle;\n",
       "    }\n",
       "\n",
       "    .dataframe tbody tr th {\n",
       "        vertical-align: top;\n",
       "    }\n",
       "\n",
       "    .dataframe thead th {\n",
       "        text-align: right;\n",
       "    }\n",
       "</style>\n",
       "<table border=\"1\" class=\"dataframe\">\n",
       "  <thead>\n",
       "    <tr style=\"text-align: right;\">\n",
       "      <th></th>\n",
       "      <th>created_at</th>\n",
       "      <th>order_id</th>\n",
       "      <th>warehouse_id</th>\n",
       "      <th>complaint_reason_id</th>\n",
       "      <th>complaint_reason_title</th>\n",
       "      <th>complaint_sub_reason_id</th>\n",
       "      <th>complaint_sub_reason_title</th>\n",
       "      <th>product_id</th>\n",
       "      <th>product_name</th>\n",
       "      <th>is_centralized</th>\n",
       "      <th>supplier</th>\n",
       "      <th>description</th>\n",
       "      <th>resolved_action</th>\n",
       "    </tr>\n",
       "  </thead>\n",
       "  <tbody>\n",
       "    <tr>\n",
       "      <th>0</th>\n",
       "      <td>1/1/21 5:43</td>\n",
       "      <td>NaN</td>\n",
       "      <td>NaN</td>\n",
       "      <td>5.0</td>\n",
       "      <td>Payment</td>\n",
       "      <td>7.0</td>\n",
       "      <td>Credits were not uploaded</td>\n",
       "      <td>NaN</td>\n",
       "      <td>NaN</td>\n",
       "      <td>NaN</td>\n",
       "      <td>NaN</td>\n",
       "      <td>Points are not appering in my account</td>\n",
       "      <td>call</td>\n",
       "    </tr>\n",
       "    <tr>\n",
       "      <th>1</th>\n",
       "      <td>1/1/21 8:49</td>\n",
       "      <td>NaN</td>\n",
       "      <td>NaN</td>\n",
       "      <td>4.0</td>\n",
       "      <td>Technical</td>\n",
       "      <td>8.0</td>\n",
       "      <td>App is not working</td>\n",
       "      <td>NaN</td>\n",
       "      <td>NaN</td>\n",
       "      <td>NaN</td>\n",
       "      <td>NaN</td>\n",
       "      <td>order ho hi nhai RHA address likny my bad agy ...</td>\n",
       "      <td>call</td>\n",
       "    </tr>\n",
       "    <tr>\n",
       "      <th>2</th>\n",
       "      <td>1/1/21 10:03</td>\n",
       "      <td>NaN</td>\n",
       "      <td>NaN</td>\n",
       "      <td>4.0</td>\n",
       "      <td>Technical</td>\n",
       "      <td>18.0</td>\n",
       "      <td>Other</td>\n",
       "      <td>NaN</td>\n",
       "      <td>NaN</td>\n",
       "      <td>NaN</td>\n",
       "      <td>NaN</td>\n",
       "      <td>What ever item I'm selecting to buy eith it's ...</td>\n",
       "      <td>call</td>\n",
       "    </tr>\n",
       "    <tr>\n",
       "      <th>3</th>\n",
       "      <td>1/1/21 10:04</td>\n",
       "      <td>NaN</td>\n",
       "      <td>NaN</td>\n",
       "      <td>4.0</td>\n",
       "      <td>Technical</td>\n",
       "      <td>18.0</td>\n",
       "      <td>Other</td>\n",
       "      <td>NaN</td>\n",
       "      <td>NaN</td>\n",
       "      <td>NaN</td>\n",
       "      <td>NaN</td>\n",
       "      <td>Y'all take forever to Restock.</td>\n",
       "      <td>call</td>\n",
       "    </tr>\n",
       "    <tr>\n",
       "      <th>4</th>\n",
       "      <td>1/1/21 11:13</td>\n",
       "      <td>NaN</td>\n",
       "      <td>NaN</td>\n",
       "      <td>5.0</td>\n",
       "      <td>Payment</td>\n",
       "      <td>7.0</td>\n",
       "      <td>Credits were not uploaded</td>\n",
       "      <td>NaN</td>\n",
       "      <td>NaN</td>\n",
       "      <td>NaN</td>\n",
       "      <td>NaN</td>\n",
       "      <td>NaN</td>\n",
       "      <td>call</td>\n",
       "    </tr>\n",
       "  </tbody>\n",
       "</table>\n",
       "</div>"
      ],
      "text/plain": [
       "     created_at  order_id  warehouse_id  complaint_reason_id  \\\n",
       "0   1/1/21 5:43       NaN           NaN                  5.0   \n",
       "1   1/1/21 8:49       NaN           NaN                  4.0   \n",
       "2  1/1/21 10:03       NaN           NaN                  4.0   \n",
       "3  1/1/21 10:04       NaN           NaN                  4.0   \n",
       "4  1/1/21 11:13       NaN           NaN                  5.0   \n",
       "\n",
       "  complaint_reason_title  complaint_sub_reason_id complaint_sub_reason_title  \\\n",
       "0                Payment                      7.0  Credits were not uploaded   \n",
       "1              Technical                      8.0         App is not working   \n",
       "2              Technical                     18.0                      Other   \n",
       "3              Technical                     18.0                      Other   \n",
       "4                Payment                      7.0  Credits were not uploaded   \n",
       "\n",
       "   product_id product_name is_centralized supplier  \\\n",
       "0         NaN          NaN            NaN      NaN   \n",
       "1         NaN          NaN            NaN      NaN   \n",
       "2         NaN          NaN            NaN      NaN   \n",
       "3         NaN          NaN            NaN      NaN   \n",
       "4         NaN          NaN            NaN      NaN   \n",
       "\n",
       "                                         description resolved_action  \n",
       "0              Points are not appering in my account            call  \n",
       "1  order ho hi nhai RHA address likny my bad agy ...            call  \n",
       "2  What ever item I'm selecting to buy eith it's ...            call  \n",
       "3                    Y'all take forever to Restock.             call  \n",
       "4                                                NaN            call  "
      ]
     },
     "execution_count": 9,
     "metadata": {},
     "output_type": "execute_result"
    }
   ],
   "source": [
    "dataset4.head()"
   ]
  },
  {
   "cell_type": "code",
   "execution_count": 11,
   "id": "comprehensive-revision",
   "metadata": {},
   "outputs": [
    {
     "name": "stdout",
     "output_type": "stream",
     "text": [
      "<class 'pandas.core.frame.DataFrame'>\n",
      "RangeIndex: 95393 entries, 0 to 95392\n",
      "Data columns (total 13 columns):\n",
      " #   Column                      Non-Null Count  Dtype  \n",
      "---  ------                      --------------  -----  \n",
      " 0   created_at                  95393 non-null  object \n",
      " 1   order_id                    76812 non-null  float64\n",
      " 2   warehouse_id                76812 non-null  float64\n",
      " 3   complaint_reason_id         80867 non-null  float64\n",
      " 4   complaint_reason_title      80867 non-null  object \n",
      " 5   complaint_sub_reason_id     80185 non-null  float64\n",
      " 6   complaint_sub_reason_title  80185 non-null  object \n",
      " 7   product_id                  35931 non-null  float64\n",
      " 8   product_name                35931 non-null  object \n",
      " 9   is_centralized              32323 non-null  object \n",
      " 10  supplier                    35400 non-null  object \n",
      " 11  description                 72336 non-null  object \n",
      " 12  resolved_action             95393 non-null  object \n",
      "dtypes: float64(5), object(8)\n",
      "memory usage: 9.5+ MB\n"
     ]
    }
   ],
   "source": [
    "dataset4.info()"
   ]
  },
  {
   "cell_type": "code",
   "execution_count": 15,
   "id": "headed-guitar",
   "metadata": {},
   "outputs": [
    {
     "name": "stdout",
     "output_type": "stream",
     "text": [
      "Number of columns with missing values:  0\n"
     ]
    },
    {
     "data": {
      "text/plain": [
       "'dataset1_missing_initial DataFrame: '"
      ]
     },
     "metadata": {},
     "output_type": "display_data"
    },
    {
     "data": {
      "text/html": [
       "<div>\n",
       "<style scoped>\n",
       "    .dataframe tbody tr th:only-of-type {\n",
       "        vertical-align: middle;\n",
       "    }\n",
       "\n",
       "    .dataframe tbody tr th {\n",
       "        vertical-align: top;\n",
       "    }\n",
       "\n",
       "    .dataframe thead th {\n",
       "        text-align: right;\n",
       "    }\n",
       "</style>\n",
       "<table border=\"1\" class=\"dataframe\">\n",
       "  <thead>\n",
       "    <tr style=\"text-align: right;\">\n",
       "      <th></th>\n",
       "      <th>Missing_Count</th>\n",
       "      <th>Percentage</th>\n",
       "    </tr>\n",
       "  </thead>\n",
       "  <tbody>\n",
       "  </tbody>\n",
       "</table>\n",
       "</div>"
      ],
      "text/plain": [
       "Empty DataFrame\n",
       "Columns: [Missing_Count, Percentage]\n",
       "Index: []"
      ]
     },
     "execution_count": 15,
     "metadata": {},
     "output_type": "execute_result"
    }
   ],
   "source": [
    "# columns with missing values\n",
    "missing_data = dataset1.isnull().sum()[dataset1.isnull().sum() !=0]\n",
    "\n",
    "total_rows = dataset1.shape[0]\n",
    "missing_dict = {'Missing_Count': missing_data.values, \n",
    "                'Percentage': np.round(missing_data.values*100/(total_rows),2)}\n",
    "\n",
    "dataset1_missing_initial = pd.DataFrame(missing_dict, index = missing_data.index)\n",
    "dataset1_missing_initial.sort_values(by = 'Missing_Count', ascending = False, inplace = True)\n",
    "print('Number of columns with missing values: ', dataset1_missing_initial.shape[0])\n",
    "display('dataset1_missing_initial DataFrame: ')\n",
    "dataset1_missing_initial\n"
   ]
  },
  {
   "cell_type": "code",
   "execution_count": 13,
   "id": "royal-courtesy",
   "metadata": {},
   "outputs": [
    {
     "name": "stdout",
     "output_type": "stream",
     "text": [
      "Number of columns with missing values:  1\n"
     ]
    },
    {
     "data": {
      "text/plain": [
       "'dataset2_missing_initial DataFrame: '"
      ]
     },
     "metadata": {},
     "output_type": "display_data"
    },
    {
     "data": {
      "text/html": [
       "<div>\n",
       "<style scoped>\n",
       "    .dataframe tbody tr th:only-of-type {\n",
       "        vertical-align: middle;\n",
       "    }\n",
       "\n",
       "    .dataframe tbody tr th {\n",
       "        vertical-align: top;\n",
       "    }\n",
       "\n",
       "    .dataframe thead th {\n",
       "        text-align: right;\n",
       "    }\n",
       "</style>\n",
       "<table border=\"1\" class=\"dataframe\">\n",
       "  <thead>\n",
       "    <tr style=\"text-align: right;\">\n",
       "      <th></th>\n",
       "      <th>Missing_Count</th>\n",
       "      <th>Percentage</th>\n",
       "    </tr>\n",
       "  </thead>\n",
       "  <tbody>\n",
       "    <tr>\n",
       "      <th>daily_sales_adj</th>\n",
       "      <td>56105</td>\n",
       "      <td>21.54</td>\n",
       "    </tr>\n",
       "  </tbody>\n",
       "</table>\n",
       "</div>"
      ],
      "text/plain": [
       "                 Missing_Count  Percentage\n",
       "daily_sales_adj          56105       21.54"
      ]
     },
     "execution_count": 13,
     "metadata": {},
     "output_type": "execute_result"
    }
   ],
   "source": [
    "# columns with missing values\n",
    "missing_data = dataset2.isnull().sum()[dataset2.isnull().sum() !=0]\n",
    "\n",
    "total_rows = dataset2.shape[0]\n",
    "missing_dict = {'Missing_Count': missing_data.values, \n",
    "                'Percentage': np.round(missing_data.values*100/(total_rows),2)}\n",
    "\n",
    "dataset2_missing_initial = pd.DataFrame(missing_dict, index = missing_data.index)\n",
    "dataset2_missing_initial.sort_values(by = 'Missing_Count', ascending = False, inplace = True)\n",
    "print('Number of columns with missing values: ', dataset2_missing_initial.shape[0])\n",
    "display('dataset2_missing_initial DataFrame: ')\n",
    "dataset2_missing_initial\n"
   ]
  },
  {
   "cell_type": "code",
   "execution_count": 14,
   "id": "mexican-maria",
   "metadata": {},
   "outputs": [
    {
     "name": "stdout",
     "output_type": "stream",
     "text": [
      "Number of columns with missing values:  0\n"
     ]
    },
    {
     "data": {
      "text/plain": [
       "'dataset3_missing_initial DataFrame: '"
      ]
     },
     "metadata": {},
     "output_type": "display_data"
    },
    {
     "data": {
      "text/html": [
       "<div>\n",
       "<style scoped>\n",
       "    .dataframe tbody tr th:only-of-type {\n",
       "        vertical-align: middle;\n",
       "    }\n",
       "\n",
       "    .dataframe tbody tr th {\n",
       "        vertical-align: top;\n",
       "    }\n",
       "\n",
       "    .dataframe thead th {\n",
       "        text-align: right;\n",
       "    }\n",
       "</style>\n",
       "<table border=\"1\" class=\"dataframe\">\n",
       "  <thead>\n",
       "    <tr style=\"text-align: right;\">\n",
       "      <th></th>\n",
       "      <th>Missing_Count</th>\n",
       "      <th>Percentage</th>\n",
       "    </tr>\n",
       "  </thead>\n",
       "  <tbody>\n",
       "  </tbody>\n",
       "</table>\n",
       "</div>"
      ],
      "text/plain": [
       "Empty DataFrame\n",
       "Columns: [Missing_Count, Percentage]\n",
       "Index: []"
      ]
     },
     "execution_count": 14,
     "metadata": {},
     "output_type": "execute_result"
    }
   ],
   "source": [
    "# columns with missing values\n",
    "missing_data = dataset3.isnull().sum()[dataset3.isnull().sum() !=0]\n",
    "\n",
    "total_rows = dataset3.shape[0]\n",
    "missing_dict = {'Missing_Count': missing_data.values, \n",
    "                'Percentage': np.round(missing_data.values*100/(total_rows),2)}\n",
    "\n",
    "dataset3_missing_initial = pd.DataFrame(missing_dict, index = missing_data.index)\n",
    "dataset3_missing_initial.sort_values(by = 'Missing_Count', ascending = False, inplace = True)\n",
    "print('Number of columns with missing values: ', dataset3_missing_initial.shape[0])\n",
    "display('dataset3_missing_initial DataFrame: ')\n",
    "dataset3_missing_initial\n"
   ]
  },
  {
   "cell_type": "code",
   "execution_count": 15,
   "id": "later-saver",
   "metadata": {},
   "outputs": [
    {
     "name": "stdout",
     "output_type": "stream",
     "text": [
      "Number of columns with missing values:  11\n"
     ]
    },
    {
     "data": {
      "text/plain": [
       "'dataset4_missing_initial DataFrame: '"
      ]
     },
     "metadata": {},
     "output_type": "display_data"
    },
    {
     "data": {
      "text/html": [
       "<div>\n",
       "<style scoped>\n",
       "    .dataframe tbody tr th:only-of-type {\n",
       "        vertical-align: middle;\n",
       "    }\n",
       "\n",
       "    .dataframe tbody tr th {\n",
       "        vertical-align: top;\n",
       "    }\n",
       "\n",
       "    .dataframe thead th {\n",
       "        text-align: right;\n",
       "    }\n",
       "</style>\n",
       "<table border=\"1\" class=\"dataframe\">\n",
       "  <thead>\n",
       "    <tr style=\"text-align: right;\">\n",
       "      <th></th>\n",
       "      <th>Missing_Count</th>\n",
       "      <th>Percentage</th>\n",
       "    </tr>\n",
       "  </thead>\n",
       "  <tbody>\n",
       "    <tr>\n",
       "      <th>is_centralized</th>\n",
       "      <td>63070</td>\n",
       "      <td>66.12</td>\n",
       "    </tr>\n",
       "    <tr>\n",
       "      <th>supplier</th>\n",
       "      <td>59993</td>\n",
       "      <td>62.89</td>\n",
       "    </tr>\n",
       "    <tr>\n",
       "      <th>product_id</th>\n",
       "      <td>59462</td>\n",
       "      <td>62.33</td>\n",
       "    </tr>\n",
       "    <tr>\n",
       "      <th>product_name</th>\n",
       "      <td>59462</td>\n",
       "      <td>62.33</td>\n",
       "    </tr>\n",
       "    <tr>\n",
       "      <th>description</th>\n",
       "      <td>23057</td>\n",
       "      <td>24.17</td>\n",
       "    </tr>\n",
       "    <tr>\n",
       "      <th>order_id</th>\n",
       "      <td>18581</td>\n",
       "      <td>19.48</td>\n",
       "    </tr>\n",
       "    <tr>\n",
       "      <th>warehouse_id</th>\n",
       "      <td>18581</td>\n",
       "      <td>19.48</td>\n",
       "    </tr>\n",
       "    <tr>\n",
       "      <th>complaint_sub_reason_id</th>\n",
       "      <td>15208</td>\n",
       "      <td>15.94</td>\n",
       "    </tr>\n",
       "    <tr>\n",
       "      <th>complaint_sub_reason_title</th>\n",
       "      <td>15208</td>\n",
       "      <td>15.94</td>\n",
       "    </tr>\n",
       "    <tr>\n",
       "      <th>complaint_reason_id</th>\n",
       "      <td>14526</td>\n",
       "      <td>15.23</td>\n",
       "    </tr>\n",
       "    <tr>\n",
       "      <th>complaint_reason_title</th>\n",
       "      <td>14526</td>\n",
       "      <td>15.23</td>\n",
       "    </tr>\n",
       "  </tbody>\n",
       "</table>\n",
       "</div>"
      ],
      "text/plain": [
       "                            Missing_Count  Percentage\n",
       "is_centralized                      63070       66.12\n",
       "supplier                            59993       62.89\n",
       "product_id                          59462       62.33\n",
       "product_name                        59462       62.33\n",
       "description                         23057       24.17\n",
       "order_id                            18581       19.48\n",
       "warehouse_id                        18581       19.48\n",
       "complaint_sub_reason_id             15208       15.94\n",
       "complaint_sub_reason_title          15208       15.94\n",
       "complaint_reason_id                 14526       15.23\n",
       "complaint_reason_title              14526       15.23"
      ]
     },
     "execution_count": 15,
     "metadata": {},
     "output_type": "execute_result"
    }
   ],
   "source": [
    "# columns with missing values\n",
    "missing_data = dataset4.isnull().sum()[dataset4.isnull().sum() !=0]\n",
    "\n",
    "total_rows = dataset4.shape[0]\n",
    "missing_dict = {'Missing_Count': missing_data.values, \n",
    "                'Percentage': np.round(missing_data.values*100/(total_rows),2)}\n",
    "\n",
    "dataset4_missing_initial = pd.DataFrame(missing_dict, index = missing_data.index)\n",
    "dataset4_missing_initial.sort_values(by = 'Missing_Count', ascending = False, inplace = True)\n",
    "print('Number of columns with missing values: ', dataset4_missing_initial.shape[0])\n",
    "display('dataset4_missing_initial DataFrame: ')\n",
    "dataset4_missing_initial\n"
   ]
  },
  {
   "cell_type": "markdown",
   "id": "light-wagon",
   "metadata": {},
   "source": [
    "## Major drop in growth "
   ]
  },
  {
   "cell_type": "code",
   "execution_count": 16,
   "id": "forty-classification",
   "metadata": {},
   "outputs": [
    {
     "data": {
      "text/plain": [
       "<AxesSubplot:xlabel='date'>"
      ]
     },
     "execution_count": 16,
     "metadata": {},
     "output_type": "execute_result"
    },
    {
     "data": {
      "image/png": "[encoded data removed]",
      "text/plain": [
       "<Figure size 432x288 with 1 Axes>"
      ]
     },
     "metadata": {
      "needs_background": "light"
     },
     "output_type": "display_data"
    }
   ],
   "source": [
    "dataset1['date'] =pd.to_datetime(dataset1.date)\n",
    "dataset1.pivot(index=\"date\", columns=\"ord_type\", values=\"orders\").plot()"
   ]
  },
  {
   "cell_type": "markdown",
   "id": "convertible-stretch",
   "metadata": {},
   "source": [
    "#### Observaion: A major drop in sales growth occurred around 13 of may 2021 as indicated  by above figure"
   ]
  },
  {
   "cell_type": "code",
   "execution_count": 17,
   "id": "stylish-somerset",
   "metadata": {},
   "outputs": [
    {
     "data": {
      "text/plain": [
       "<AxesSubplot:xlabel='date_1'>"
      ]
     },
     "execution_count": 17,
     "metadata": {},
     "output_type": "execute_result"
    },
    {
     "data": {
      "image/png": "[encoded data removed]",
      "text/plain": [
       "<Figure size 432x288 with 1 Axes>"
      ]
     },
     "metadata": {
      "needs_background": "light"
     },
     "output_type": "display_data"
    }
   ],
   "source": [
    "dataset3['date_1'] =pd.to_datetime(dataset3.date_1)\n",
    "dataset3.pivot(index=\"date_1\", columns=\"stage\", values=\"avg\").plot()"
   ]
  },
  {
   "cell_type": "markdown",
   "id": "optical-damages",
   "metadata": {},
   "source": [
    "#### During the month of May our stage timing for different categories seem to increased correlating with the major drop in sales "
   ]
  },
  {
   "cell_type": "markdown",
   "id": "centered-wallace",
   "metadata": {},
   "source": [
    "## Number of complaints reported corresponding to each month"
   ]
  },
  {
   "cell_type": "code",
   "execution_count": 34,
   "id": "amino-arkansas",
   "metadata": {},
   "outputs": [
    {
     "data": {
      "text/plain": [
       "5    31026\n",
       "6    29409\n",
       "4    16866\n",
       "3     9801\n",
       "2     5291\n",
       "1     3000\n",
       "Name: month, dtype: int64"
      ]
     },
     "execution_count": 34,
     "metadata": {},
     "output_type": "execute_result"
    }
   ],
   "source": [
    "\n",
    "dataset4_copy=dataset4.copy()\n",
    "dataset4_copy['month']= dataset4['created_at'].dt.month\n",
    "dataset4_copy['month'].value_counts()"
   ]
  },
  {
   "cell_type": "markdown",
   "id": "worthy-bidder",
   "metadata": {},
   "source": [
    "#### Observation: The month of may recorded the highest number of complaints as compared to the rest of the months that confirms our above figure result where we pointed out the drop in sales growth during the month of May"
   ]
  },
  {
   "cell_type": "markdown",
   "id": "revised-retro",
   "metadata": {},
   "source": [
    "## warehouse ids where most complaints been reported in month of may"
   ]
  },
  {
   "cell_type": "code",
   "execution_count": 85,
   "id": "fossil-orlando",
   "metadata": {},
   "outputs": [],
   "source": [
    "left_join_frame=dataset4_copy.merge(dataset2.drop_duplicates(subset=['product_id']), how='left')"
   ]
  },
  {
   "cell_type": "code",
   "execution_count": 86,
   "id": "false-passenger",
   "metadata": {},
   "outputs": [
    {
     "data": {
      "text/plain": [
       "38.0     3261\n",
       "37.0     2195\n",
       "1.0      1912\n",
       "69.0     1605\n",
       "236.0    1573\n",
       "39.0     1560\n",
       "67.0     1557\n",
       "169.0    1468\n",
       "235.0    1370\n",
       "238.0    1350\n",
       "136.0    1200\n",
       "68.0     1174\n",
       "35.0     1161\n",
       "240.0     898\n",
       "239.0     820\n",
       "135.0     657\n",
       "243.0     125\n",
       "242.0     119\n",
       "245.0      58\n",
       "Name: warehouse_id, dtype: int64"
      ]
     },
     "execution_count": 86,
     "metadata": {},
     "output_type": "execute_result"
    }
   ],
   "source": [
    "(left_join_frame[(left_join_frame.month == 6 )])['warehouse_id'].value_counts()"
   ]
  },
  {
   "cell_type": "markdown",
   "id": "crazy-defeat",
   "metadata": {},
   "source": [
    "#### Observation: warehouses with id 38.0, 37.0, and 1.0 seem to be getting the most number of complaits investigating these may lead us to the major drivers behind this drop in growth "
   ]
  },
  {
   "cell_type": "markdown",
   "id": "roman-madonna",
   "metadata": {},
   "source": [
    "## First three warehouses where most complaints been reported all located in karachi"
   ]
  },
  {
   "cell_type": "code",
   "execution_count": 64,
   "id": "tropical-entertainment",
   "metadata": {},
   "outputs": [
    {
     "data": {
      "text/plain": [
       "[1557    Karachi\n",
       " Name: city, dtype: object]"
      ]
     },
     "execution_count": 64,
     "metadata": {},
     "output_type": "execute_result"
    }
   ],
   "source": [
    "dataset2.loc[dataset2['warehouse_id'] == 38.0, 'city'][0:1]"
   ]
  },
  {
   "cell_type": "code",
   "execution_count": 39,
   "id": "hired-bristol",
   "metadata": {},
   "outputs": [
    {
     "data": {
      "text/plain": [
       "3186    Karachi\n",
       "Name: city, dtype: object"
      ]
     },
     "execution_count": 39,
     "metadata": {},
     "output_type": "execute_result"
    }
   ],
   "source": [
    "dataset2.loc[dataset2['warehouse_id'] == 69.0, 'city'][0:1]"
   ]
  },
  {
   "cell_type": "code",
   "execution_count": 40,
   "id": "sixth-democrat",
   "metadata": {},
   "outputs": [
    {
     "data": {
      "text/plain": [
       "1120    Karachi\n",
       "Name: city, dtype: object"
      ]
     },
     "execution_count": 40,
     "metadata": {},
     "output_type": "execute_result"
    }
   ],
   "source": [
    "dataset2.loc[dataset2['warehouse_id'] == 37.0, 'city'][0:1]"
   ]
  },
  {
   "cell_type": "markdown",
   "id": "matched-douglas",
   "metadata": {},
   "source": [
    "## Categories of complaints and their relative percentages "
   ]
  },
  {
   "cell_type": "code",
   "execution_count": 41,
   "id": "korean-making",
   "metadata": {},
   "outputs": [
    {
     "data": {
      "image/png": "[encoded data removed]",
      "text/plain": [
       "<Figure size 432x288 with 1 Axes>"
      ]
     },
     "metadata": {},
     "output_type": "display_data"
    }
   ],
   "source": [
    "labels = dataset4['complaint_reason_title'].astype('category').cat.categories.tolist()\n",
    "counts = dataset4['complaint_reason_title'].value_counts()\n",
    "sizes = [counts[var_cat] for var_cat in labels]\n",
    "fig1, ax1 = plt.subplots()\n",
    "ax1.pie(sizes, labels=labels, autopct='%1.1f%%', shadow=True) #autopct is show the % on plot\n",
    "ax1.axis('equal')\n",
    "plt.show()\n"
   ]
  },
  {
   "cell_type": "markdown",
   "id": "divine-image",
   "metadata": {},
   "source": [
    " ### Observation: Product Quality / damage is the most reported complaint"
   ]
  },
  {
   "cell_type": "code",
   "execution_count": 35,
   "id": "round-bunch",
   "metadata": {},
   "outputs": [
    {
     "data": {
      "text/plain": [
       "2475.0     1150\n",
       "2485.0      546\n",
       "2484.0      469\n",
       "2476.0      443\n",
       "2483.0      389\n",
       "           ... \n",
       "6464.0        1\n",
       "10468.0       1\n",
       "8739.0        1\n",
       "3363.0        1\n",
       "5587.0        1\n",
       "Name: product_id, Length: 5206, dtype: int64"
      ]
     },
     "execution_count": 35,
     "metadata": {},
     "output_type": "execute_result"
    }
   ],
   "source": [
    "# most problematic rodects id\n",
    "dataset4['product_id'].value_counts()\n"
   ]
  },
  {
   "cell_type": "markdown",
   "id": "spread-allah",
   "metadata": {},
   "source": [
    "## Average of hours_out_of_stock for products in each city"
   ]
  },
  {
   "cell_type": "code",
   "execution_count": 67,
   "id": "confident-mailing",
   "metadata": {},
   "outputs": [
    {
     "data": {
      "text/html": [
       "<div>\n",
       "<style scoped>\n",
       "    .dataframe tbody tr th:only-of-type {\n",
       "        vertical-align: middle;\n",
       "    }\n",
       "\n",
       "    .dataframe tbody tr th {\n",
       "        vertical-align: top;\n",
       "    }\n",
       "\n",
       "    .dataframe thead th {\n",
       "        text-align: right;\n",
       "    }\n",
       "</style>\n",
       "<table border=\"1\" class=\"dataframe\">\n",
       "  <thead>\n",
       "    <tr style=\"text-align: right;\">\n",
       "      <th></th>\n",
       "      <th>city</th>\n",
       "      <th>hours_out_of_stock</th>\n",
       "    </tr>\n",
       "  </thead>\n",
       "  <tbody>\n",
       "    <tr>\n",
       "      <th>0</th>\n",
       "      <td>Islamabad</td>\n",
       "      <td>8.938942</td>\n",
       "    </tr>\n",
       "    <tr>\n",
       "      <th>1</th>\n",
       "      <td>Karachi</td>\n",
       "      <td>9.077070</td>\n",
       "    </tr>\n",
       "    <tr>\n",
       "      <th>2</th>\n",
       "      <td>Lahore</td>\n",
       "      <td>10.235190</td>\n",
       "    </tr>\n",
       "  </tbody>\n",
       "</table>\n",
       "</div>"
      ],
      "text/plain": [
       "        city  hours_out_of_stock\n",
       "0  Islamabad            8.938942\n",
       "1    Karachi            9.077070\n",
       "2     Lahore           10.235190"
      ]
     },
     "execution_count": 67,
     "metadata": {},
     "output_type": "execute_result"
    }
   ],
   "source": [
    "dataset2.groupby('city', as_index=False)['hours_out_of_stock'].mean()"
   ]
  },
  {
   "cell_type": "markdown",
   "id": "responsible-uniform",
   "metadata": {},
   "source": [
    "## Average of daily_sales_adj for products in each city"
   ]
  },
  {
   "cell_type": "code",
   "execution_count": 68,
   "id": "focused-james",
   "metadata": {},
   "outputs": [
    {
     "data": {
      "text/html": [
       "<div>\n",
       "<style scoped>\n",
       "    .dataframe tbody tr th:only-of-type {\n",
       "        vertical-align: middle;\n",
       "    }\n",
       "\n",
       "    .dataframe tbody tr th {\n",
       "        vertical-align: top;\n",
       "    }\n",
       "\n",
       "    .dataframe thead th {\n",
       "        text-align: right;\n",
       "    }\n",
       "</style>\n",
       "<table border=\"1\" class=\"dataframe\">\n",
       "  <thead>\n",
       "    <tr style=\"text-align: right;\">\n",
       "      <th></th>\n",
       "      <th>city</th>\n",
       "      <th>daily_sales_adj</th>\n",
       "    </tr>\n",
       "  </thead>\n",
       "  <tbody>\n",
       "    <tr>\n",
       "      <th>0</th>\n",
       "      <td>Islamabad</td>\n",
       "      <td>3.419336</td>\n",
       "    </tr>\n",
       "    <tr>\n",
       "      <th>1</th>\n",
       "      <td>Karachi</td>\n",
       "      <td>4.977935</td>\n",
       "    </tr>\n",
       "    <tr>\n",
       "      <th>2</th>\n",
       "      <td>Lahore</td>\n",
       "      <td>3.275516</td>\n",
       "    </tr>\n",
       "  </tbody>\n",
       "</table>\n",
       "</div>"
      ],
      "text/plain": [
       "        city  daily_sales_adj\n",
       "0  Islamabad         3.419336\n",
       "1    Karachi         4.977935\n",
       "2     Lahore         3.275516"
      ]
     },
     "execution_count": 68,
     "metadata": {},
     "output_type": "execute_result"
    }
   ],
   "source": [
    "dataset2.groupby('city', as_index=False)['daily_sales_adj'].mean()"
   ]
  },
  {
   "cell_type": "markdown",
   "id": "hybrid-defeat",
   "metadata": {},
   "source": [
    "### Conclusion:\n",
    "A major drop in sales growth occurred around 13 May 2021, during the same time in the month of May our stage timing for different categories seem to increased correlating with the major drop in sales growth moreover further investigation of complaints also confirmed that the most complaints were indeed reported in the month of May 2021 perfectly correlating with a drop in sales growth around the same time.\n",
    "The warehouse that recorded the most complaints were all in Karachi, with most complaints belonging to issues regarding either Product Quality or damage"
   ]
  }
 ],
 "metadata": {
  "kernelspec": {
   "display_name": "Python 3",
   "language": "python",
   "name": "python3"
  },
  "language_info": {
   "codemirror_mode": {
    "name": "ipython",
    "version": 3
   },
   "file_extension": ".py",
   "mimetype": "text/x-python",
   "name": "python",
   "nbconvert_exporter": "python",
   "pygments_lexer": "ipython3",
   "version": "3.7.10"
  }
 },
 "nbformat": 4,
 "nbformat_minor": 5
}
